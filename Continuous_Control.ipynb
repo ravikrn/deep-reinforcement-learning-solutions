{
 "cells": [
  {
   "cell_type": "markdown",
   "metadata": {},
   "source": [
    "# Continuous Control\n",
    "\n",
    "---\n",
    "\n",
    "You are welcome to use this coding environment to train your agent for the project.  Follow the instructions below to get started!\n",
    "\n",
    "### 1. Start the Environment\n",
    "\n",
    "Run the next code cell to install a few packages.  This line will take a few minutes to run!"
   ]
  },
  {
   "cell_type": "code",
   "execution_count": 1,
   "metadata": {},
   "outputs": [
    {
     "data": {
      "text/plain": [
       "12"
      ]
     },
     "execution_count": 1,
     "metadata": {},
     "output_type": "execute_result"
    }
   ],
   "source": [
    "10+2"
   ]
  },
  {
   "cell_type": "code",
   "execution_count": 2,
   "metadata": {},
   "outputs": [
    {
     "name": "stdout",
     "output_type": "stream",
     "text": [
      "\u001b[31mtensorflow 1.7.1 has requirement numpy>=1.13.3, but you'll have numpy 1.12.1 which is incompatible.\u001b[0m\r\n",
      "\u001b[31mipython 6.5.0 has requirement prompt-toolkit<2.0.0,>=1.0.15, but you'll have prompt-toolkit 3.0.5 which is incompatible.\u001b[0m\r\n"
     ]
    }
   ],
   "source": [
    "!pip -q install ./python"
   ]
  },
  {
   "cell_type": "code",
   "execution_count": 3,
   "metadata": {},
   "outputs": [],
   "source": [
    "## Watch changes and reload automatically\n",
    "% load_ext autoreload\n",
    "% autoreload 2"
   ]
  },
  {
   "cell_type": "code",
   "execution_count": 4,
   "metadata": {},
   "outputs": [],
   "source": [
    "import pdb\n",
    "import json\n",
    "import numpy as np \n",
    "import torch \n",
    "import gym\n",
    "import random\n",
    "\n",
    "from collections import deque\n",
    "from ddpg_agent import Agent\n",
    "from utils import ensure_dir\n",
    "import matplotlib.pyplot as plt\n",
    "\n",
    "import logging\n",
    "logging.basicConfig(level=logging.INFO, format='')"
   ]
  },
  {
   "cell_type": "code",
   "execution_count": 5,
   "metadata": {},
   "outputs": [],
   "source": [
    "from ddpg_agent import Agent"
   ]
  },
  {
   "cell_type": "code",
   "execution_count": 6,
   "metadata": {},
   "outputs": [
    {
     "data": {
      "text/plain": [
       "('self', 'state_size', 'action_size', 'n_agents', 'seed')"
      ]
     },
     "execution_count": 6,
     "metadata": {},
     "output_type": "execute_result"
    }
   ],
   "source": [
    "Agent.__init__.__code__.co_varnames"
   ]
  },
  {
   "cell_type": "markdown",
   "metadata": {},
   "source": [
    "The environments corresponding to both versions of the environment are already saved in the Workspace and can be accessed at the file paths provided below.  \n",
    "\n",
    "Please select one of the two options below for loading the environment."
   ]
  },
  {
   "cell_type": "code",
   "execution_count": 7,
   "metadata": {},
   "outputs": [
    {
     "name": "stderr",
     "output_type": "stream",
     "text": [
      "\n",
      "'Academy' started successfully!\n",
      "Unity Academy name: Academy\n",
      "        Number of Brains: 1\n",
      "        Number of External Brains : 1\n",
      "        Lesson number : 0\n",
      "        Reset Parameters :\n",
      "\t\tgoal_speed -> 1.0\n",
      "\t\tgoal_size -> 5.0\n",
      "Unity brain name: ReacherBrain\n",
      "        Number of Visual Observations (per agent): 0\n",
      "        Vector Observation space type: continuous\n",
      "        Vector Observation space size (per agent): 33\n",
      "        Number of stacked Vector Observation: 1\n",
      "        Vector Action space type: continuous\n",
      "        Vector Action space size (per agent): 4\n",
      "        Vector Action descriptions: , , , \n"
     ]
    }
   ],
   "source": [
    "from unityagents import UnityEnvironment\n",
    "import numpy as np\n",
    "\n",
    "# select this option to load version 1 (with a single agent) of the environment\n",
    "#env = UnityEnvironment(file_name='/data/Reacher_One_Linux_NoVis/Reacher_One_Linux_NoVis.x86_64')\n",
    "\n",
    "# select this option to load version 2 (with 20 agents) of the environment\n",
    "env = UnityEnvironment(file_name='/data/Reacher_Linux_NoVis/Reacher.x86_64')\n",
    "#env = UnityEnvironment(file_name='Reacher_Linux_NoVis/Reacher.x86')\n"
   ]
  },
  {
   "cell_type": "markdown",
   "metadata": {},
   "source": [
    "Environments contain **_brains_** which are responsible for deciding the actions of their associated agents. Here we check for the first brain available, and set it as the default brain we will be controlling from Python."
   ]
  },
  {
   "cell_type": "code",
   "execution_count": 8,
   "metadata": {},
   "outputs": [],
   "source": [
    "# get the default brain\n",
    "brain_name = env.brain_names[0]\n",
    "brain = env.brains[brain_name]"
   ]
  },
  {
   "cell_type": "markdown",
   "metadata": {},
   "source": [
    "### 2. Examine the State and Action Spaces\n",
    "\n",
    "Run the code cell below to print some information about the environment."
   ]
  },
  {
   "cell_type": "code",
   "execution_count": 9,
   "metadata": {},
   "outputs": [
    {
     "name": "stdout",
     "output_type": "stream",
     "text": [
      "Number of agents: 20\n",
      "Size of each action: 4\n",
      "There are 20 agents. Each observes a state with length: 33\n",
      "The state for the first agent looks like: [  0.00000000e+00  -4.00000000e+00   0.00000000e+00   1.00000000e+00\n",
      "  -0.00000000e+00  -0.00000000e+00  -4.37113883e-08   0.00000000e+00\n",
      "   0.00000000e+00   0.00000000e+00   0.00000000e+00   0.00000000e+00\n",
      "   0.00000000e+00   0.00000000e+00  -1.00000000e+01   0.00000000e+00\n",
      "   1.00000000e+00  -0.00000000e+00  -0.00000000e+00  -4.37113883e-08\n",
      "   0.00000000e+00   0.00000000e+00   0.00000000e+00   0.00000000e+00\n",
      "   0.00000000e+00   0.00000000e+00   5.75471878e+00  -1.00000000e+00\n",
      "   5.55726624e+00   0.00000000e+00   1.00000000e+00   0.00000000e+00\n",
      "  -1.68164849e-01]\n"
     ]
    }
   ],
   "source": [
    "# reset the environment\n",
    "env_info = env.reset(train_mode=True)[brain_name]\n",
    "\n",
    "# number of agents\n",
    "num_agents = len(env_info.agents)\n",
    "print('Number of agents:', num_agents)\n",
    "\n",
    "# size of each action\n",
    "action_size = brain.vector_action_space_size\n",
    "print('Size of each action:', action_size)\n",
    "\n",
    "# examine the state space \n",
    "states = env_info.vector_observations\n",
    "state_size = states.shape[1]\n",
    "print('There are {} agents. Each observes a state with length: {}'.format(states.shape[0], state_size))\n",
    "print('The state for the first agent looks like:', states[0])"
   ]
  },
  {
   "cell_type": "markdown",
   "metadata": {},
   "source": [
    "### 3. Take Random Actions in the Environment\n",
    "\n",
    "In the next code cell, you will learn how to use the Python API to control the agent and receive feedback from the environment.\n",
    "\n",
    "Note that **in this coding environment, you will not be able to watch the agents while they are training**, and you should set `train_mode=True` to restart the environment."
   ]
  },
  {
   "cell_type": "code",
   "execution_count": null,
   "metadata": {},
   "outputs": [],
   "source": [
    "env_info = env.reset(train_mode=True)[brain_name]      # reset the environment    \n",
    "states = env_info.vector_observations                  # get the current state (for each agent)\n",
    "scores = np.zeros(num_agents)                          # initialize the score (for each agent)\n",
    "while True:\n",
    "    actions = np.random.randn(num_agents, action_size) # select an action (for each agent)\n",
    "    actions = np.clip(actions, -1, 1)                  # all actions between -1 and 1\n",
    "    env_info = env.step(actions)[brain_name]           # send all actions to tne environment\n",
    "    next_states = env_info.vector_observations         # get next state (for each agent)\n",
    "    rewards = env_info.rewards                         # get reward (for each agent)\n",
    "    dones = env_info.local_done                        # see if episode finished\n",
    "    scores += env_info.rewards                         # update the score (for each agent)\n",
    "    states = next_states                               # roll over states to next time step\n",
    "    if np.any(dones):                                  # exit loop if episode finished\n",
    "        break\n",
    "print('Total score (averaged over agents) this episode: {}'.format(np.mean(scores)))"
   ]
  },
  {
   "cell_type": "markdown",
   "metadata": {},
   "source": [
    "When finished, you can close the environment."
   ]
  },
  {
   "cell_type": "code",
   "execution_count": null,
   "metadata": {},
   "outputs": [],
   "source": [
    "env.close()"
   ]
  },
  {
   "cell_type": "markdown",
   "metadata": {},
   "source": [
    "### 4. It's Your Turn!\n",
    "\n",
    "Now it's your turn to train your own agent to solve the environment!  A few **important notes**:\n",
    "- When training the environment, set `train_mode=True`, so that the line for resetting the environment looks like the following:\n",
    "```python\n",
    "env_info = env.reset(train_mode=True)[brain_name]\n",
    "```\n",
    "- To structure your work, you're welcome to work directly in this Jupyter notebook, or you might like to start over with a new file!  You can see the list of files in the workspace by clicking on **_Jupyter_** in the top left corner of the notebook.\n",
    "- In this coding environment, you will not be able to watch the agents while they are training.  However, **_after training the agents_**, you can download the saved model weights to watch the agents on your own machine! "
   ]
  },
  {
   "cell_type": "code",
   "execution_count": 10,
   "metadata": {},
   "outputs": [],
   "source": [
    "agent = Agent(state_size=state_size, action_size=action_size, n_agents=num_agents, seed=55)"
   ]
  },
  {
   "cell_type": "code",
   "execution_count": 11,
   "metadata": {},
   "outputs": [],
   "source": [
    "#agent.actor_local.load_state_dict(torch.load('checkpoint_actor120.pth'))\n",
    "#agent.critic_local.load_state_dict(torch.load('checkpoint_critic120.pth'))"
   ]
  },
  {
   "cell_type": "code",
   "execution_count": 12,
   "metadata": {},
   "outputs": [],
   "source": [
    "#agent = Agent(state_size=state_size, action_size=action_size, n_agents=num_agents, seed=30)\n",
    "\n",
    "def ddpg(n_episodes=2000, max_t = 1000, window_size=100, score_threshold=30.0, \n",
    "         print_interval=10, epochs=1000):\n",
    "\n",
    "    scores_deque = deque(maxlen=window_size) \n",
    "    scores = []        \n",
    "    best_average_score = -np.inf\n",
    "    \n",
    "    print(\"Training on {} started...\".format(agent.device))\n",
    "    \n",
    "    for i_episode in range(1, epochs+1):\n",
    "        #print (\"1a\")\n",
    "        env_info = env.reset(train_mode=True)[brain_name]\n",
    "        states = env_info.vector_observations\n",
    "        \n",
    "        agent.reset()\n",
    "        episode_scores = np.zeros(num_agents) \n",
    "        #print (\"a\")\n",
    "        for t in range(max_t):\n",
    "            actions = agent.act(states)\n",
    "            env_info = env.step(actions)[brain_name]\n",
    "            next_states = env_info.vector_observations\n",
    "            rewards = env_info.rewards\n",
    "            dones = env_info.local_done\n",
    "\n",
    "            agent.step(states=states, actions=actions, rewards=rewards, next_states=next_states, dones=dones)\n",
    "            episode_scores += np.array(rewards)\n",
    "            states = next_states\n",
    "            if np.any(dones):\n",
    "                break\n",
    "        #print (\"aa\")\n",
    "        episode_score = np.mean(episode_scores) # Summary of scores for this episode\n",
    "        scores_deque.append(episode_score)\n",
    "        scores.append(episode_score)\n",
    "        average_score = np.mean(scores_deque)\n",
    "        \n",
    "        print('\\rEpisode: {}\\tAverage Score: {:.2f}\\tCurrent Score: {:.2f}'.format(i_episode, average_score, episode_score), end=\"\")\n",
    "        if i_episode % print_interval == 0:\n",
    "            print('\\rEpisode: {}\\tAverage Score: {:.2f}\\tCurrent Score: {:.2f}'.format(i_episode, average_score, episode_score))\n",
    "            \n",
    "        if i_episode % 60 == 0:\n",
    "            torch.save(agent.actor_local.state_dict(), 'checkpoint_actor_v2'+str(i_episode)+'.pth')\n",
    "            torch.save(agent.critic_local.state_dict(), 'checkpoint_critic_v2'+str(i_episode)+'.pth')\n",
    "        if average_score >= score_threshold:\n",
    "            print('\\nEnvironment solved in {} episodes!\\tAverage Score: {:.2f}'.format(i_episode-window_size, average_score))\n",
    "            torch.save(agent.actor_local.state_dict(), 'checkpoint_actor.pth')\n",
    "            torch.save(agent.critic_local.state_dict(), 'checkpoint_critic.pth')\n",
    "            break\n",
    "\n",
    "    np.save('scores.npy', scores)\n",
    "    return scores"
   ]
  },
  {
   "cell_type": "code",
   "execution_count": null,
   "metadata": {},
   "outputs": [
    {
     "name": "stdout",
     "output_type": "stream",
     "text": [
      "Training on cuda:0 started...\n",
      "Episode: 10\tAverage Score: 0.89\tCurrent Score: 1.07\n",
      "Episode: 20\tAverage Score: 1.02\tCurrent Score: 1.20\n",
      "Episode: 30\tAverage Score: 1.09\tCurrent Score: 1.32\n",
      "Episode: 40\tAverage Score: 1.53\tCurrent Score: 3.31\n",
      "Episode: 50\tAverage Score: 2.10\tCurrent Score: 4.94\n",
      "Episode: 60\tAverage Score: 2.66\tCurrent Score: 6.47\n",
      "Episode: 70\tAverage Score: 3.24\tCurrent Score: 7.53\n",
      "Episode: 80\tAverage Score: 3.75\tCurrent Score: 6.43\n",
      "Episode: 90\tAverage Score: 4.18\tCurrent Score: 7.58\n",
      "Episode: 100\tAverage Score: 4.65\tCurrent Score: 10.37\n",
      "Episode: 110\tAverage Score: 5.52\tCurrent Score: 9.309\n",
      "Episode: 120\tAverage Score: 6.39\tCurrent Score: 10.49\n",
      "Episode: 130\tAverage Score: 7.35\tCurrent Score: 11.58\n",
      "Episode: 140\tAverage Score: 8.23\tCurrent Score: 12.07\n",
      "Episode: 150\tAverage Score: 9.06\tCurrent Score: 14.17\n",
      "Episode: 160\tAverage Score: 9.75\tCurrent Score: 13.18\n",
      "Episode: 170\tAverage Score: 10.32\tCurrent Score: 11.93\n",
      "Episode: 176\tAverage Score: 10.63\tCurrent Score: 11.90"
     ]
    }
   ],
   "source": [
    "scores = ddpg()"
   ]
  },
  {
   "cell_type": "code",
   "execution_count": null,
   "metadata": {},
   "outputs": [
    {
     "name": "stdout",
     "output_type": "stream",
     "text": [
      "Training on cuda:0 started...\n",
      "Episode: 10\tAverage Score: 0.32\tCurrent Score: 0.66\n",
      "Episode: 20\tAverage Score: 0.55\tCurrent Score: 0.87\n",
      "Episode: 30\tAverage Score: 0.72\tCurrent Score: 1.15\n",
      "Episode: 40\tAverage Score: 0.98\tCurrent Score: 2.38\n",
      "Episode: 50\tAverage Score: 1.45\tCurrent Score: 3.96\n",
      "Episode: 60\tAverage Score: 2.10\tCurrent Score: 5.37\n",
      "Episode: 70\tAverage Score: 2.66\tCurrent Score: 6.93\n",
      "Episode: 80\tAverage Score: 3.11\tCurrent Score: 6.07\n",
      "Episode: 90\tAverage Score: 3.72\tCurrent Score: 11.36\n",
      "Episode: 100\tAverage Score: 4.52\tCurrent Score: 12.39\n",
      "Episode: 110\tAverage Score: 5.77\tCurrent Score: 14.56\n",
      "Episode: 120\tAverage Score: 7.37\tCurrent Score: 19.26\n",
      "Episode: 129\tAverage Score: 9.06\tCurrent Score: 19.96"
     ]
    }
   ],
   "source": [
    "#Training second attempt\n",
    "scores = ddpg()"
   ]
  },
  {
   "cell_type": "code",
   "execution_count": 13,
   "metadata": {},
   "outputs": [
    {
     "name": "stdout",
     "output_type": "stream",
     "text": [
      "Training on cuda:0 started...\n",
      "Episode: 10\tAverage Score: 0.32\tCurrent Score: 0.66\n",
      "Episode: 20\tAverage Score: 0.55\tCurrent Score: 0.87\n",
      "Episode: 30\tAverage Score: 0.72\tCurrent Score: 1.15\n",
      "Episode: 40\tAverage Score: 0.98\tCurrent Score: 2.38\n",
      "Episode: 50\tAverage Score: 1.45\tCurrent Score: 3.96\n",
      "Episode: 60\tAverage Score: 2.10\tCurrent Score: 5.37\n",
      "Episode: 70\tAverage Score: 2.66\tCurrent Score: 6.93\n",
      "Episode: 80\tAverage Score: 3.11\tCurrent Score: 6.07\n",
      "Episode: 90\tAverage Score: 3.72\tCurrent Score: 11.36\n",
      "Episode: 100\tAverage Score: 4.52\tCurrent Score: 12.39\n",
      "Episode: 110\tAverage Score: 5.77\tCurrent Score: 14.56\n",
      "Episode: 120\tAverage Score: 7.37\tCurrent Score: 19.26\n",
      "Episode: 130\tAverage Score: 9.25\tCurrent Score: 20.68\n",
      "Episode: 140\tAverage Score: 11.55\tCurrent Score: 27.61\n",
      "Episode: 150\tAverage Score: 14.08\tCurrent Score: 30.26\n",
      "Episode: 160\tAverage Score: 16.46\tCurrent Score: 30.50\n",
      "Episode: 170\tAverage Score: 19.06\tCurrent Score: 33.09\n",
      "Episode: 180\tAverage Score: 21.69\tCurrent Score: 30.41\n",
      "Episode: 190\tAverage Score: 24.06\tCurrent Score: 33.30\n",
      "Episode: 200\tAverage Score: 26.13\tCurrent Score: 34.09\n",
      "Episode: 210\tAverage Score: 28.28\tCurrent Score: 34.34\n",
      "Episode: 220\tAverage Score: 30.13\tCurrent Score: 35.03\n",
      "\n",
      "Environment solved in 120 episodes!\tAverage Score: 30.13\n"
     ]
    }
   ],
   "source": [
    "#Training 3rd attempt \n",
    "scores = ddpg()"
   ]
  },
  {
   "cell_type": "code",
   "execution_count": 14,
   "metadata": {},
   "outputs": [],
   "source": [
    "env.close()"
   ]
  },
  {
   "cell_type": "code",
   "execution_count": 15,
   "metadata": {},
   "outputs": [
    {
     "data": {
      "image/png": "[encoded data removed]",
      "text/plain": [
       "<matplotlib.figure.Figure at 0x7f94c18f1278>"
      ]
     },
     "metadata": {
      "needs_background": "light"
     },
     "output_type": "display_data"
    }
   ],
   "source": [
    "# plot the scores\n",
    "fig = plt.figure(figsize=(16, 12))\n",
    "ax = fig.add_subplot(111)\n",
    "plt.plot(np.arange(len(scores)), scores)\n",
    "plt.xlabel('Episode number')\n",
    "plt.ylabel('Score')\n",
    "plt.show()"
   ]
  },
  {
   "cell_type": "code",
   "execution_count": null,
   "metadata": {},
   "outputs": [],
   "source": []
  }
 ],
 "metadata": {
  "kernelspec": {
   "display_name": "Python 3",
   "language": "python",
   "name": "python3"
  },
  "language_info": {
   "codemirror_mode": {
    "name": "ipython",
    "version": 3
   },
   "file_extension": ".py",
   "mimetype": "text/x-python",
   "name": "python",
   "nbconvert_exporter": "python",
   "pygments_lexer": "ipython3",
   "version": "3.6.3"
  }
 },
 "nbformat": 4,
 "nbformat_minor": 2
}
